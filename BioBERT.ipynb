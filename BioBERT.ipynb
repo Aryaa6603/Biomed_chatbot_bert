{
  "nbformat": 4,
  "nbformat_minor": 0,
  "metadata": {
    "colab": {
      "name": "BioBERT_DAGsHub.ipynb",
      "provenance": [],
      "collapsed_sections": [],
      "toc_visible": true
    },
    "kernelspec": {
      "name": "python3",
      "display_name": "Python 3"
    },
    "accelerator": "GPU"
  },
  "cells": [
    {
      "cell_type": "code",
      "metadata": {
        "colab": {
          "base_uri": "https://localhost:8080/"
        },
        "id": "IZdQl7CgCf9x",
        "outputId": "c1f992e4-9642-47fa-9822-839c3c117860"
      },
      "source": [
        "# Clone the repo you want to start from\n",
        "!git clone https://dagshub.com/Dean/BioBERT-DAGsHub.git"
      ],
      "execution_count": 1,
      "outputs": [
        {
          "output_type": "stream",
          "text": [
            "Cloning into 'BioBERT-DAGsHub'...\n",
            "remote: Enumerating objects: 366, done.\u001b[K\n",
            "remote: Counting objects: 100% (366/366), done.\u001b[K\n",
            "remote: Compressing objects: 100% (308/308), done.\u001b[K\n",
            "remote: Total 366 (delta 110), reused 198 (delta 37)\u001b[K\n",
            "Receiving objects: 100% (366/366), 1.98 MiB | 17.35 MiB/s, done.\n",
            "Resolving deltas: 100% (110/110), done.\n"
          ],
          "name": "stdout"
        }
      ]
    },
    {
      "cell_type": "markdown",
      "metadata": {
        "id": "FQoYXXS-L7tl"
      },
      "source": [
        "# Imports"
      ]
    },
    {
      "cell_type": "code",
      "metadata": {
        "id": "c5Jmi79TL2Cm"
      },
      "source": [
        "import os\n",
        "from getpass import getpass"
      ],
      "execution_count": 2,
      "outputs": []
    },
    {
      "cell_type": "markdown",
      "metadata": {
        "id": "mqSIiWsRKdi7"
      },
      "source": [
        "# Set up your DAGsHub & Git Credentials"
      ]
    },
    {
      "cell_type": "code",
      "metadata": {
        "colab": {
          "base_uri": "https://localhost:8080/"
        },
        "id": "wa6xePsDH6gs",
        "outputId": "602bc2a8-ab1a-4b8b-aef6-dbc707e73321"
      },
      "source": [
        "os.environ['DAGS_REPO_OWNER'] = input('Enter the name of the repo owner: ')\n",
        "os.environ['DAGS_REPO'] = input(\n",
        "    'Enter the repository name for the project you will be working on: ')\n",
        "os.environ['DAGS_USER'] = input('Enter the username of your DAGsHub account: ')\n",
        "os.environ['EMAIL'] = input('Enter the email for your DAGsHub account: ')"
      ],
      "execution_count": 3,
      "outputs": [
        {
          "output_type": "stream",
          "text": [
            "Enter the name of the repo owner: Dean\n",
            "Enter the repository name for the project you will be working on: BioBERT-DAGsHub\n",
            "Enter the username of your DAGsHub account: Dean\n",
            "Enter the email for your DAGsHub account: dean@dagshub.com\n"
          ],
          "name": "stdout"
        }
      ]
    },
    {
      "cell_type": "code",
      "metadata": {
        "id": "Q1CPZP15Npnj"
      },
      "source": [
        "!git config --global user.email \"$EMAIL\"\n",
        "!git config --global user.name \"$DAGS_USER\""
      ],
      "execution_count": 4,
      "outputs": []
    },
    {
      "cell_type": "markdown",
      "metadata": {
        "id": "BIPbycQ9KkTb"
      },
      "source": [
        "# Project Setup\n",
        "## Installing Requirements"
      ]
    },
    {
      "cell_type": "code",
      "metadata": {
        "id": "BWl_CL9FCuuA",
        "colab": {
          "base_uri": "https://localhost:8080/"
        },
        "outputId": "e573b20c-9699-48ca-dff6-68fe323dc7fa"
      },
      "source": [
        "%cd BioBERT-DAGsHub/"
      ],
      "execution_count": 5,
      "outputs": [
        {
          "output_type": "stream",
          "text": [
            "/content/BioBERT-DAGsHub\n"
          ],
          "name": "stdout"
        }
      ]
    },
    {
      "cell_type": "code",
      "metadata": {
        "id": "oZXyUglvswaw"
      },
      "source": [
        "!pip install -r requirements.txt"
      ],
      "execution_count": null,
      "outputs": []
    },
    {
      "cell_type": "markdown",
      "metadata": {
        "id": "AKvYu31LaGSn"
      },
      "source": [
        "# Playground"
      ]
    },
    {
      "cell_type": "markdown",
      "metadata": {
        "id": "55Y7XqdwEFNs"
      },
      "source": [
        "## Prepare branch\n",
        "Checkout to your branch"
      ]
    },
    {
      "cell_type": "code",
      "metadata": {
        "colab": {
          "base_uri": "https://localhost:8080/"
        },
        "id": "woNWAiaxGxAl",
        "outputId": "a448aef6-ec1d-470f-a864-689af4b5bcd0"
      },
      "source": [
        "os.environ[\"GIT_BRANCH\"] = input(\"insert the branch you are working on: \")"
      ],
      "execution_count": 7,
      "outputs": [
        {
          "output_type": "stream",
          "text": [
            "insert the branch you are working on: master\n"
          ],
          "name": "stdout"
        }
      ]
    },
    {
      "cell_type": "code",
      "metadata": {
        "id": "YSwqmxbQ3MxJ"
      },
      "source": [
        "!git fetch\n",
        "!git checkout $GIT_BRANCH\n",
        "!git pull\n",
        "!pip install -r requirements.txt\n",
        "!dvc pull -r origin"
      ],
      "execution_count": null,
      "outputs": []
    },
    {
      "cell_type": "code",
      "metadata": {
        "id": "GH-s3oBIsRbA"
      },
      "source": [
        "!git status"
      ],
      "execution_count": null,
      "outputs": []
    },
    {
      "cell_type": "markdown",
      "metadata": {
        "id": "kHSWUVfkES0S"
      },
      "source": [
        "Set params for the experiments, and save them for traceability and reproduceability of the experiment"
      ]
    },
    {
      "cell_type": "code",
      "metadata": {
        "id": "oml5bSA6xhWl"
      },
      "source": [
        "# Set params\n",
        "os.environ['DATA_DIR'] = \"preprocessed_datasets/NER\"\n",
        "os.environ['ENTITY'] = \"NCBI-disease\"\n",
        "\n",
        "import yaml\n",
        "\n",
        "params = {\n",
        "  \"model_name_or_path\": \"dmis-lab/biobert-base-cased-v1.1\",\n",
        "  \"data_dir\": os.path.join(os.environ[\"DATA_DIR\"], os.environ[\"ENTITY\"]),\n",
        "  \"labels\": os.path.join(os.environ[\"DATA_DIR\"], os.environ[\"ENTITY\"], \"labels.txt\"),\n",
        "  \"output_dir\": os.path.join(\"output\", os.environ[\"ENTITY\"]),\n",
        "  \"max_seq_length\": 128,\n",
        "  \"num_train_epochs\": 1,\n",
        "  \"per_device_train_batch_size\": 32,\n",
        "  \"save_steps\": 1000,\n",
        "  \"seed\": 2,\n",
        "  \"do_train\": True,\n",
        "  \"do_eval\": True,\n",
        "  \"do_predict\": True,\n",
        "  \"overwrite_output_dir\": True,\n",
        "}\n",
        "\n",
        "with open(\"params.yaml\", \"w\") as f:\n",
        "  yaml.dump(params, f, default_flow_style=False)\n"
      ],
      "execution_count": 19,
      "outputs": []
    },
    {
      "cell_type": "markdown",
      "metadata": {
        "id": "Yc9PBuooEl8Q"
      },
      "source": [
        "## Finetune (Train) the Model for the NER task"
      ]
    },
    {
      "cell_type": "code",
      "metadata": {
        "id": "euzQrAWS2ygt"
      },
      "source": [
        "!python named-entity-recognition/run_ner.py params.yaml"
      ],
      "execution_count": null,
      "outputs": []
    },
    {
      "cell_type": "markdown",
      "metadata": {
        "id": "A3DfvL8LrOtj"
      },
      "source": [
        "## Try out the model after finetuning"
      ]
    },
    {
      "cell_type": "code",
      "metadata": {
        "id": "tFYsgWwQvmqd"
      },
      "source": [
        "import torch\n",
        "from transformers import (\n",
        "    AutoConfig,\n",
        "    AutoModelForTokenClassification,\n",
        "    AutoModel,\n",
        "    AutoTokenizer,\n",
        "    EvalPrediction,\n",
        "    HfArgumentParser,\n",
        "    Trainer,\n",
        "    TrainingArguments,\n",
        "    set_seed,\n",
        ")\n",
        "from dataclasses import dataclass, field\n",
        "from typing import Dict, List, Optional, Tuple\n",
        "import importlib  \n",
        "ner = importlib.import_module(\"named-entity-recognition.utils_ner\")"
      ],
      "execution_count": 11,
      "outputs": []
    },
    {
      "cell_type": "code",
      "metadata": {
        "id": "subE0MouvW5D"
      },
      "source": [
        "params['fine_tuned_model_path'] = \"./output/NCBI-disease/pytorch_model.bin\"\n",
        "labels = ner.get_labels(params['labels'])\n",
        "label_map: Dict[int, str] = {i: label for i, label in enumerate(labels)}\n",
        "num_labels = len(labels)\n",
        "config = AutoConfig.from_pretrained(\n",
        "        params['output_dir'] + \"/config.json\",\n",
        "        num_labels=num_labels,\n",
        "        id2label=label_map,\n",
        "        label2id={label: i for i, label in enumerate(labels)},\n",
        ")\n",
        "\n",
        "tokenizer = AutoTokenizer.from_pretrained(\n",
        "    params['model_name_or_path'],\n",
        "    use_fast=False,\n",
        ")\n",
        "\n",
        "model = AutoModelForTokenClassification.from_pretrained(\n",
        "        params['fine_tuned_model_path'],\n",
        "        config=config,\n",
        ")"
      ],
      "execution_count": 22,
      "outputs": []
    },
    {
      "cell_type": "code",
      "metadata": {
        "colab": {
          "base_uri": "https://localhost:8080/"
        },
        "id": "ajQ51Dhe8aA3",
        "outputId": "b276bc77-f82d-4c45-b3f8-1138d7438be7"
      },
      "source": [
        "# The sequence to test on\n",
        "sequence = \"with B - cell non Hodgkins lymphomas\"\n",
        "\n",
        "# Bit of a hack to get the tokens with the special tokens\n",
        "tokens = tokenizer.tokenize(tokenizer.decode(tokenizer.encode(sequence)))\n",
        "inputs = tokenizer.encode(sequence, return_tensors=\"pt\")\n",
        "\n",
        "outputs = model(inputs)[0]\n",
        "predictions = torch.argmax(outputs, dim=2)\n",
        "\n",
        "doc = [(token, labels[prediction]) for token, prediction in zip(tokens, predictions[0].tolist())]\n",
        "print(doc)"
      ],
      "execution_count": 15,
      "outputs": [
        {
          "output_type": "stream",
          "text": [
            "[('[CLS]', 'O'), ('with', 'O'), ('b', 'B-bio'), ('-', 'I-bio'), ('cell', 'I-bio'), ('non', 'I-bio'), ('ho', 'I-bio'), ('##d', 'I-bio'), ('##g', 'I-bio'), ('##kins', 'I-bio'), ('l', 'I-bio'), ('##ymph', 'I-bio'), ('##oma', 'I-bio'), ('##s', 'O'), ('[SEP]', 'O')]\n"
          ],
          "name": "stdout"
        }
      ]
    },
    {
      "cell_type": "markdown",
      "metadata": {
        "id": "eTrOK0iVKqGP"
      },
      "source": [
        "## If you have new data folders/files to add"
      ]
    },
    {
      "cell_type": "code",
      "metadata": {
        "id": "2irQGk4-GGuh"
      },
      "source": [
        "!git status"
      ],
      "execution_count": null,
      "outputs": []
    },
    {
      "cell_type": "code",
      "metadata": {
        "id": "oFKZJLt_GJj4"
      },
      "source": [
        "!dvc status"
      ],
      "execution_count": null,
      "outputs": []
    },
    {
      "cell_type": "code",
      "metadata": {
        "id": "hgiQgD1tDUGx"
      },
      "source": [
        "# Adding a new file to be tracked \n",
        "!dvc add <data folder / file name>"
      ],
      "execution_count": null,
      "outputs": []
    },
    {
      "cell_type": "markdown",
      "metadata": {
        "id": "EfZ_jcTbKxnA"
      },
      "source": [
        "# Committing Changes to Git and DVC"
      ]
    },
    {
      "cell_type": "code",
      "metadata": {
        "id": "BTr46uNSHh3e",
        "colab": {
          "base_uri": "https://localhost:8080/"
        },
        "outputId": "65d9d3ba-6eb0-4fdc-c7dd-5029e57fad8e"
      },
      "source": [
        "!dvc commit\n",
        "!git add ."
      ],
      "execution_count": null,
      "outputs": [
        {
          "output_type": "stream",
          "text": [
            "outputs ['output'] of stage: 'output.dvc' changed. Are you sure you want to commit it? [y/n] y\n",
            "\u001b[0m"
          ],
          "name": "stdout"
        }
      ]
    },
    {
      "cell_type": "code",
      "metadata": {
        "id": "KxgpI6ZvHq3d"
      },
      "source": [
        "os.environ['COMMIT_MSG'] = input('Enter a commit message: ')\n",
        "!git commit -m \"$COMMIT_MSG\""
      ],
      "execution_count": null,
      "outputs": []
    },
    {
      "cell_type": "markdown",
      "metadata": {
        "id": "0Fcb9dWaK5Nk"
      },
      "source": [
        "## Pushing Code & Data to DAGsHub"
      ]
    },
    {
      "cell_type": "code",
      "metadata": {
        "colab": {
          "base_uri": "https://localhost:8080/"
        },
        "id": "_errxkJ6Gz8C",
        "outputId": "a80d63dc-0d6d-4673-e2d2-2450d240f4e6"
      },
      "source": [
        "# If this stage fails, make sure to remove outputs as it will show your password to whoever it is shared with.\n",
        "os.environ['PASSWORD'] = getpass('Enter the password of your DAGsHub account: ')\n",
        "os.environ['DAGSHUB_AUTH'] = os.environ['DAGS_USER'] + ':' + os.environ['PASSWORD']\n",
        "\n",
        "!git push https://$DAGSHUB_AUTH@dagshub.com/$DAGS_REPO_OWNER/$DAGS_REPO.git $GIT_BRANCH\n",
        "\n",
        "os.environ['PASSWORD'] = os.environ['DAGSHUB_AUTH'] = \"\""
      ],
      "execution_count": null,
      "outputs": [
        {
          "output_type": "stream",
          "text": [
            "Enter the password of your DAGsHub account: ··········\n",
            "Counting objects: 6, done.\n",
            "Delta compression using up to 2 threads.\n",
            "Compressing objects: 100% (6/6), done.\n",
            "Writing objects: 100% (6/6), 615 bytes | 615.00 KiB/s, done.\n",
            "Total 6 (delta 4), reused 0 (delta 0)\n",
            "To https://dagshub.com/dean/biobert-dagshub.git\n",
            "   cacedef..c5153ab  add-params -> add-params\n"
          ],
          "name": "stdout"
        }
      ]
    },
    {
      "cell_type": "code",
      "metadata": {
        "id": "7wRc9ovUHLBr"
      },
      "source": [
        "!dvc remote modify --local origin auth basic\n",
        "!dvc remote modify --local origin user $DAGS_USER\n",
        "!dvc remote modify --local origin ask_password true\n",
        "\n",
        "!dvc push -r origin"
      ],
      "execution_count": null,
      "outputs": []
    },
    {
      "cell_type": "code",
      "metadata": {
        "id": "gOqG8udqXGvJ"
      },
      "source": [
        ""
      ],
      "execution_count": null,
      "outputs": []
    }
  ]
}